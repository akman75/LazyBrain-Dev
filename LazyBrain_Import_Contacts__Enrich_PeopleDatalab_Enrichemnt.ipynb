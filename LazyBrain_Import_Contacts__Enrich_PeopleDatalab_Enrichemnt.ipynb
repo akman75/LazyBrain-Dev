{
  "nbformat": 4,
  "nbformat_minor": 0,
  "metadata": {
    "colab": {
      "provenance": [],
      "authorship_tag": "ABX9TyNpxeiqhizYbOVIcvDCiDGL",
      "include_colab_link": true
    },
    "kernelspec": {
      "name": "python3",
      "display_name": "Python 3"
    },
    "language_info": {
      "name": "python"
    }
  },
  "cells": [
    {
      "cell_type": "markdown",
      "metadata": {
        "id": "view-in-github",
        "colab_type": "text"
      },
      "source": [
        "<a href=\"https://colab.research.google.com/github/akman75/LazyBrain-Dev/blob/main/LazyBrain_Import_Contacts__Enrich_PeopleDatalab_Enrichemnt.ipynb\" target=\"_parent\"><img src=\"https://colab.research.google.com/assets/colab-badge.svg\" alt=\"Open In Colab\"/></a>"
      ]
    },
    {
      "cell_type": "code",
      "source": [
        "from google.colab import drive\n",
        "drive.mount('/content/drive')\n",
        "\n",
        "import pandas as pd\n",
        "data = pd.read_csv('/content/drive/MyDrive/Colab Notebooks/CSV uploads/Connections2.csv')\n",
        "print(data)\n"
      ],
      "metadata": {
        "colab": {
          "base_uri": "https://localhost:8080/"
        },
        "id": "yQr48bC129aP",
        "outputId": "2f1b2ab3-9ae9-49e6-e67c-b37cba2505c0"
      },
      "execution_count": null,
      "outputs": [
        {
          "output_type": "stream",
          "name": "stdout",
          "text": [
            "Drive already mounted at /content/drive; to attempt to forcibly remount, call drive.mount(\"/content/drive\", force_remount=True).\n",
            "     First Name        Last Name Email Address  \\\n",
            "0      François         Bataille           NaN   \n",
            "1         Jimmy           Mackey           NaN   \n",
            "2           Edo          Liberty           NaN   \n",
            "3          Elan            Dekel           NaN   \n",
            "4     Kostis A.         Tselenis           NaN   \n",
            "...         ...              ...           ...   \n",
            "3757       Atau           Tanaka           NaN   \n",
            "3758    Gabriel    Dabi-Schwebel           NaN   \n",
            "3759        Jim             Cook           NaN   \n",
            "3760       Alan  Tawil-Kummerman           NaN   \n",
            "3761     Gilles          Babinet           NaN   \n",
            "\n",
            "                                      Company  \\\n",
            "0                                     Bechtle   \n",
            "1                    The Catalyst Performance   \n",
            "2                                    Pinecone   \n",
            "3                                    Pinecone   \n",
            "4                         swiss impact office   \n",
            "...                                       ...   \n",
            "3757         Goldsmiths, University of London   \n",
            "3758                                   1min30   \n",
            "3759                             NymblScience   \n",
            "3760  International Solutions Management, LLC   \n",
            "3761    Conseil national du numérique (CNNum)   \n",
            "\n",
            "                                    Position Connected On  \n",
            "0     Project Manager | Process & Innovation  21 Jan 2023  \n",
            "1                                    Founder  20 Jan 2023  \n",
            "2                               Founder, CEO  13 Jan 2023  \n",
            "3                                 VP Product  13 Jan 2023  \n",
            "4                           Managing Partner  09 Jan 2023  \n",
            "...                                      ...          ...  \n",
            "3757            Professor of Media Computing  23 Nov 2004  \n",
            "3758                         CEO and founder  08 Jun 2004  \n",
            "3759                              Co-founder  06 Apr 2004  \n",
            "3760                   Chairman Of The Board  01 Apr 2004  \n",
            "3761                             co-chairman  01 Apr 2004  \n",
            "\n",
            "[3762 rows x 6 columns]\n"
          ]
        }
      ]
    },
    {
      "cell_type": "code",
      "source": [
        "import pandas as pd\n",
        "\n",
        "# Read the CSV file\n",
        "data = pd.read_csv('/content/drive/MyDrive/Colab Notebooks/CSV uploads/Connections2.csv')\n",
        "\n",
        "# Get the list of column names\n",
        "column_names = data.columns\n",
        "\n",
        "# Print the column names\n",
        "print(column_names)\n"
      ],
      "metadata": {
        "colab": {
          "base_uri": "https://localhost:8080/"
        },
        "id": "OHHTdBL97bHP",
        "outputId": "94353b78-3f2d-43cd-e7ef-25c159453628"
      },
      "execution_count": null,
      "outputs": [
        {
          "output_type": "stream",
          "name": "stdout",
          "text": [
            "Index(['First Name', 'Last Name', 'Email Address', 'Company', 'Position',\n",
            "       'Connected On'],\n",
            "      dtype='object')\n"
          ]
        }
      ]
    },
    {
      "cell_type": "code",
      "source": [
        "# Create a list of \"First Name Last Name\"\n",
        "name_list = []\n",
        "for i in range(len(first_name)):\n",
        "    if str(first_name[i]) != 'nan' and str(last_name[i]) != 'nan':\n",
        "        name_list.append(str(first_name[i]) + ' ' + str(last_name[i]))\n",
        "\n",
        "# Create a JSON list of the names\n",
        "name_list_json = json.dumps(name_list, indent=4)\n",
        "\n",
        "with open('/content/drive/MyDrive/Colab Notebooks/CSV uploads/name_list.json', \"w\", encoding='utf-8-sig') as file:\n",
        "    file.write(name_list_json)\n",
        "\n"
      ],
      "metadata": {
        "id": "D6xfoUnP-apQ"
      },
      "execution_count": null,
      "outputs": []
    },
    {
      "cell_type": "code",
      "source": [
        "import os\n",
        "print(os.getcwd())\n"
      ],
      "metadata": {
        "colab": {
          "base_uri": "https://localhost:8080/"
        },
        "id": "TByY41MY_OX-",
        "outputId": "9580c36f-af53-413a-bdb1-fce4cb40e6f0"
      },
      "execution_count": null,
      "outputs": [
        {
          "output_type": "stream",
          "name": "stdout",
          "text": [
            "/content\n"
          ]
        }
      ]
    },
    {
      "cell_type": "code",
      "source": [
        "import json\n",
        "\n",
        "# Open the file\n",
        "with open('name_list.json', 'r') as file:\n",
        "    # Load the JSON data from the file\n",
        "    data = json.load(file)\n",
        "\n",
        "# Print the data\n",
        "print(data)\n",
        "\n"
      ],
      "metadata": {
        "colab": {
          "base_uri": "https://localhost:8080/",
          "height": 240
        },
        "id": "viZ3WivE_d9Y",
        "outputId": "c1660c0e-29ca-4896-e919-0be09b9ffddf"
      },
      "execution_count": null,
      "outputs": [
        {
          "output_type": "error",
          "ename": "FileNotFoundError",
          "evalue": "ignored",
          "traceback": [
            "\u001b[0;31m---------------------------------------------------------------------------\u001b[0m",
            "\u001b[0;31mFileNotFoundError\u001b[0m                         Traceback (most recent call last)",
            "\u001b[0;32m<ipython-input-30-14ac3d945905>\u001b[0m in \u001b[0;36m<module>\u001b[0;34m\u001b[0m\n\u001b[1;32m      2\u001b[0m \u001b[0;34m\u001b[0m\u001b[0m\n\u001b[1;32m      3\u001b[0m \u001b[0;31m# Open the file\u001b[0m\u001b[0;34m\u001b[0m\u001b[0;34m\u001b[0m\u001b[0;34m\u001b[0m\u001b[0m\n\u001b[0;32m----> 4\u001b[0;31m \u001b[0;32mwith\u001b[0m \u001b[0mopen\u001b[0m\u001b[0;34m(\u001b[0m\u001b[0;34m'name_list.json'\u001b[0m\u001b[0;34m,\u001b[0m \u001b[0;34m'r'\u001b[0m\u001b[0;34m)\u001b[0m \u001b[0;32mas\u001b[0m \u001b[0mfile\u001b[0m\u001b[0;34m:\u001b[0m\u001b[0;34m\u001b[0m\u001b[0;34m\u001b[0m\u001b[0m\n\u001b[0m\u001b[1;32m      5\u001b[0m     \u001b[0;31m# Load the JSON data from the file\u001b[0m\u001b[0;34m\u001b[0m\u001b[0;34m\u001b[0m\u001b[0;34m\u001b[0m\u001b[0m\n\u001b[1;32m      6\u001b[0m     \u001b[0mdata\u001b[0m \u001b[0;34m=\u001b[0m \u001b[0mjson\u001b[0m\u001b[0;34m.\u001b[0m\u001b[0mload\u001b[0m\u001b[0;34m(\u001b[0m\u001b[0mfile\u001b[0m\u001b[0;34m)\u001b[0m\u001b[0;34m\u001b[0m\u001b[0;34m\u001b[0m\u001b[0m\n",
            "\u001b[0;31mFileNotFoundError\u001b[0m: [Errno 2] No such file or directory: 'name_list.json'"
          ]
        }
      ]
    },
    {
      "cell_type": "code",
      "source": [
        "import pandas as pd\n",
        "import json\n",
        "\n",
        "# Read the CSV file\n",
        "data = pd.read_csv('/content/drive/MyDrive/Colab Notebooks/CSV uploads/Connections2.csv')\n",
        "\n",
        "# Extract the LinkedIn URLs column\n",
        "urls = data['LinkedIn']\n",
        "\n",
        "# Create a list of unique URLs\n",
        "unique_urls = list(set(urls))\n",
        "\n",
        "# Remove any NaN values from the list\n",
        "unique_urls = [x for x in unique_urls if str(x) != 'nan']\n",
        "\n",
        "# Create a JSON list of the URLs\n",
        "url_list = json.dumps(unique_urls, indent=4)\n",
        "\n",
        "# Write the JSON list to a file\n",
        "with open(\"url_list.json\", \"w\") as file:\n",
        "    file.write(url_list)\n",
        "\n",
        "# Print the list of URLs\n",
        "print(url_list)\n"
      ],
      "metadata": {
        "id": "vhimsi187JLG"
      },
      "execution_count": null,
      "outputs": []
    },
    {
      "cell_type": "code",
      "source": [
        "import pandas as pd\n",
        "import json\n",
        "\n",
        "# Read the CSV file\n",
        "data = pd.read_csv('/content/drive/MyDrive/Colab Notebooks/CSV uploads/contacts_alex-kummerman.csv')\n",
        "\n",
        "# Extract the LinkedIn URLs column\n",
        "urls = data['linkedIn_url']\n",
        "\n",
        "# Create a list of unique URLs\n",
        "unique_urls = list(set(urls))\n",
        "\n",
        "# Remove any NaN values from the list\n",
        "unique_urls = [x for x in unique_urls if str(x) != 'nan']\n",
        "\n",
        "# Create a JSON list of the URLs\n",
        "url_list = json.dumps(unique_urls, indent=4)\n",
        "\n",
        "# Write the JSON list to a file\n",
        "with open(\"url_list.json\", \"w\") as file:\n",
        "    file.write(url_list)\n",
        "\n",
        "# Print the list of URLs\n",
        "print(url_list)\n"
      ],
      "metadata": {
        "id": "IQe8KKti6D7C"
      },
      "execution_count": null,
      "outputs": []
    },
    {
      "cell_type": "code",
      "source": [
        "import requests\n",
        "\n",
        "# Set your API key\n",
        "api_key = '524d460ae0ff19594b0c7d272ff361e8dd37295c6fc2c6d738b55d3615164a40'\n",
        "\n",
        "# Set the endpoint\n",
        "endpoint = 'https://api.peopledatalabs.com/v5/person/enrich'\n",
        "\n",
        "# Get the profile url from the user\n",
        "profile_url = input(\"Enter the profile url: \")\n",
        "\n",
        "# keep \"linkedin.com\" at the beginning of the profile url\n",
        "if \"linkedin.com\" not in profile_url:\n",
        "    profile_url = \"linkedin.com\" + profile_url\n",
        "\n",
        "#remove trailing \"/\" if exists\n",
        "if profile_url[-1] == \"/\":\n",
        "    profile_url = profile_url[:-1]\n",
        "\n",
        "# Print the modified profile url\n",
        "print(\"Modified profile url: \", profile_url)\n",
        "\n",
        "# Set the parameters for the search\n",
        "params = {\n",
        "    'api_key': api_key,\n",
        "    'pretty': 'True',\n",
        "    'profile': profile_url\n",
        "}\n",
        "\n",
        "# Make the GET request\n",
        "response = requests.get(endpoint, params=params)\n",
        "\n",
        "# Print the JSON response\n",
        "print(response.json())\n"
      ],
      "metadata": {
        "id": "WGmdU-yPWZpw"
      },
      "execution_count": null,
      "outputs": []
    },
    {
      "cell_type": "code",
      "source": [
        "import json\n",
        "\n",
        "# Make the GET request\n",
        "response = requests.get(endpoint, params=params)\n",
        "\n",
        "# Parse the JSON response\n",
        "data = json.loads(response.text)\n",
        "\n",
        "# Print the structured data\n",
        "print(json.dumps(data, indent=4))\n"
      ],
      "metadata": {
        "id": "1gLvnlVcXFb4"
      },
      "execution_count": null,
      "outputs": []
    },
    {
      "cell_type": "code",
      "source": [
        "import pandas as pd\n",
        "\n",
        "# Make the GET request\n",
        "response = requests.get(endpoint, params=params)\n",
        "\n",
        "# Convert the response to a DataFrame\n",
        "df = pd.DataFrame(response.json())\n",
        "\n",
        "# Display the DataFrame\n",
        "display(df)\n"
      ],
      "metadata": {
        "id": "pIinLRoxXhF9"
      },
      "execution_count": null,
      "outputs": []
    },
    {
      "cell_type": "code",
      "source": [
        "# Make the GET request\n",
        "response = requests.get(endpoint, params=params)\n",
        "\n",
        "# Convert the response to a DataFrame\n",
        "df = pd.DataFrame(response.json())\n",
        "\n",
        "# Display the DataFrame as an interactive table\n",
        "data_table.DataTable(df)\n"
      ],
      "metadata": {
        "id": "NYwVMPCjZJnb"
      },
      "execution_count": null,
      "outputs": []
    },
    {
      "cell_type": "code",
      "source": [
        "import json\n",
        "import os\n",
        "\n",
        "# Make the GET request\n",
        "response = requests.get(endpoint, params=params)\n",
        "\n",
        "# Create a file name based on the profile url\n",
        "file_name = os.path.join(params['profile'].replace('/','_')+'.json')\n",
        "\n",
        "#save the result in a file\n",
        "with open(file_name, 'w') as f:\n",
        "    json.dump(response.json(), f)\n"
      ],
      "metadata": {
        "id": "NbpRv8Jmoy5g"
      },
      "execution_count": null,
      "outputs": []
    }
  ]
}