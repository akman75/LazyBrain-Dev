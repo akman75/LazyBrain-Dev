{
  "cells": [
    {
      "cell_type": "markdown",
      "metadata": {
        "colab_type": "text",
        "id": "view-in-github"
      },
      "source": [
        "<a href=\"https://colab.research.google.com/github/akman75/LazyBrain-Dev/blob/main/LazyBrain_Import_Contacts__Enrich_PeopleDatalab_Enrichemnt.ipynb\" target=\"_parent\"><img src=\"https://colab.research.google.com/assets/colab-badge.svg\" alt=\"Open In Colab\"/></a>"
      ]
    },
    {
      "cell_type": "code",
      "execution_count": null,
      "metadata": {
        "colab": {
          "base_uri": "https://localhost:8080/"
        },
        "id": "yQr48bC129aP",
        "outputId": "2f1b2ab3-9ae9-49e6-e67c-b37cba2505c0"
      },
      "outputs": [],
      "source": [
        "from google.colab import drive\n",
        "drive.mount('/content/drive')\n",
        "\n",
        "import pandas as pd\n",
        "data = pd.read_csv('/content/drive/MyDrive/Colab Notebooks/CSV uploads/Connections2.csv')\n",
        "print(data)\n"
      ]
    },
    {
      "cell_type": "code",
      "execution_count": null,
      "metadata": {
        "colab": {
          "base_uri": "https://localhost:8080/"
        },
        "id": "OHHTdBL97bHP",
        "outputId": "94353b78-3f2d-43cd-e7ef-25c159453628"
      },
      "outputs": [
        {
          "name": "stdout",
          "output_type": "stream",
          "text": [
            "Index(['First Name', 'Last Name', 'Email Address', 'Company', 'Position',\n",
            "       'Connected On'],\n",
            "      dtype='object')\n"
          ]
        }
      ],
      "source": [
        "import pandas as pd\n",
        "\n",
        "# Read the CSV file\n",
        "data = pd.read_csv('/content/drive/MyDrive/Colab Notebooks/CSV uploads/Connections2.csv')\n",
        "\n",
        "# Get the list of column names\n",
        "column_names = data.columns\n",
        "\n",
        "# Print the column names\n",
        "print(column_names)\n"
      ]
    },
    {
      "cell_type": "code",
      "execution_count": null,
      "metadata": {
        "id": "D6xfoUnP-apQ"
      },
      "outputs": [],
      "source": [
        "# Create a list of \"First Name Last Name\"\n",
        "name_list = []\n",
        "for i in range(len(first_name)):\n",
        "    if str(first_name[i]) != 'nan' and str(last_name[i]) != 'nan':\n",
        "        name_list.append(str(first_name[i]) + ' ' + str(last_name[i]))\n",
        "\n",
        "# Create a JSON list of the names\n",
        "name_list_json = json.dumps(name_list, indent=4)\n",
        "\n",
        "with open('/content/drive/MyDrive/Colab Notebooks/CSV uploads/name_list.json', \"w\", encoding='utf-8-sig') as file:\n",
        "    file.write(name_list_json)\n",
        "\n"
      ]
    },
    {
      "cell_type": "code",
      "execution_count": null,
      "metadata": {
        "colab": {
          "base_uri": "https://localhost:8080/"
        },
        "id": "TByY41MY_OX-",
        "outputId": "9580c36f-af53-413a-bdb1-fce4cb40e6f0"
      },
      "outputs": [
        {
          "name": "stdout",
          "output_type": "stream",
          "text": [
            "/content\n"
          ]
        }
      ],
      "source": [
        "import os\n",
        "print(os.getcwd())\n"
      ]
    },
    {
      "cell_type": "code",
      "execution_count": null,
      "metadata": {
        "colab": {
          "base_uri": "https://localhost:8080/",
          "height": 240
        },
        "id": "viZ3WivE_d9Y",
        "outputId": "c1660c0e-29ca-4896-e919-0be09b9ffddf"
      },
      "outputs": [
        {
          "ename": "FileNotFoundError",
          "evalue": "ignored",
          "output_type": "error",
          "traceback": [
            "\u001b[0;31m---------------------------------------------------------------------------\u001b[0m",
            "\u001b[0;31mFileNotFoundError\u001b[0m                         Traceback (most recent call last)",
            "\u001b[0;32m<ipython-input-30-14ac3d945905>\u001b[0m in \u001b[0;36m<module>\u001b[0;34m\u001b[0m\n\u001b[1;32m      2\u001b[0m \u001b[0;34m\u001b[0m\u001b[0m\n\u001b[1;32m      3\u001b[0m \u001b[0;31m# Open the file\u001b[0m\u001b[0;34m\u001b[0m\u001b[0;34m\u001b[0m\u001b[0;34m\u001b[0m\u001b[0m\n\u001b[0;32m----> 4\u001b[0;31m \u001b[0;32mwith\u001b[0m \u001b[0mopen\u001b[0m\u001b[0;34m(\u001b[0m\u001b[0;34m'name_list.json'\u001b[0m\u001b[0;34m,\u001b[0m \u001b[0;34m'r'\u001b[0m\u001b[0;34m)\u001b[0m \u001b[0;32mas\u001b[0m \u001b[0mfile\u001b[0m\u001b[0;34m:\u001b[0m\u001b[0;34m\u001b[0m\u001b[0;34m\u001b[0m\u001b[0m\n\u001b[0m\u001b[1;32m      5\u001b[0m     \u001b[0;31m# Load the JSON data from the file\u001b[0m\u001b[0;34m\u001b[0m\u001b[0;34m\u001b[0m\u001b[0;34m\u001b[0m\u001b[0m\n\u001b[1;32m      6\u001b[0m     \u001b[0mdata\u001b[0m \u001b[0;34m=\u001b[0m \u001b[0mjson\u001b[0m\u001b[0;34m.\u001b[0m\u001b[0mload\u001b[0m\u001b[0;34m(\u001b[0m\u001b[0mfile\u001b[0m\u001b[0;34m)\u001b[0m\u001b[0;34m\u001b[0m\u001b[0;34m\u001b[0m\u001b[0m\n",
            "\u001b[0;31mFileNotFoundError\u001b[0m: [Errno 2] No such file or directory: 'name_list.json'"
          ]
        }
      ],
      "source": [
        "import json\n",
        "\n",
        "# Open the file\n",
        "with open('name_list.json', 'r') as file:\n",
        "    # Load the JSON data from the file\n",
        "    data = json.load(file)\n",
        "\n",
        "# Print the data\n",
        "print(data)\n",
        "\n"
      ]
    },
    {
      "cell_type": "code",
      "execution_count": null,
      "metadata": {
        "id": "vhimsi187JLG"
      },
      "outputs": [],
      "source": [
        "import pandas as pd\n",
        "import json\n",
        "\n",
        "# Read the CSV file\n",
        "data = pd.read_csv('/content/drive/MyDrive/Colab Notebooks/CSV uploads/Connections2.csv')\n",
        "\n",
        "# Extract the LinkedIn URLs column\n",
        "urls = data['LinkedIn']\n",
        "\n",
        "# Create a list of unique URLs\n",
        "unique_urls = list(set(urls))\n",
        "\n",
        "# Remove any NaN values from the list\n",
        "unique_urls = [x for x in unique_urls if str(x) != 'nan']\n",
        "\n",
        "# Create a JSON list of the URLs\n",
        "url_list = json.dumps(unique_urls, indent=4)\n",
        "\n",
        "# Write the JSON list to a file\n",
        "with open(\"url_list.json\", \"w\") as file:\n",
        "    file.write(url_list)\n",
        "\n",
        "# Print the list of URLs\n",
        "print(url_list)\n"
      ]
    },
    {
      "cell_type": "code",
      "execution_count": null,
      "metadata": {
        "id": "IQe8KKti6D7C"
      },
      "outputs": [],
      "source": [
        "import pandas as pd\n",
        "import json\n",
        "\n",
        "# Read the CSV file\n",
        "data = pd.read_csv('/content/drive/MyDrive/Colab Notebooks/CSV uploads/contacts_alex-kummerman.csv')\n",
        "\n",
        "# Extract the LinkedIn URLs column\n",
        "urls = data['linkedIn_url']\n",
        "\n",
        "# Create a list of unique URLs\n",
        "unique_urls = list(set(urls))\n",
        "\n",
        "# Remove any NaN values from the list\n",
        "unique_urls = [x for x in unique_urls if str(x) != 'nan']\n",
        "\n",
        "# Create a JSON list of the URLs\n",
        "url_list = json.dumps(unique_urls, indent=4)\n",
        "\n",
        "# Write the JSON list to a file\n",
        "with open(\"url_list.json\", \"w\") as file:\n",
        "    file.write(url_list)\n",
        "\n",
        "# Print the list of URLs\n",
        "print(url_list)\n"
      ]
    },
    {
      "cell_type": "code",
      "execution_count": null,
      "metadata": {
        "id": "WGmdU-yPWZpw"
      },
      "outputs": [],
      "source": [
        "import requests\n",
        "\n",
        "# Set your API key\n",
        "api_key = ''\n",
        "\n",
        "# Set the endpoint\n",
        "endpoint = 'https://api.peopledatalabs.com/v5/person/enrich'\n",
        "\n",
        "# Get the profile url from the user\n",
        "profile_url = input(\"Enter the profile url: \")\n",
        "\n",
        "# keep \"linkedin.com\" at the beginning of the profile url\n",
        "if \"linkedin.com\" not in profile_url:\n",
        "    profile_url = \"linkedin.com\" + profile_url\n",
        "\n",
        "#remove trailing \"/\" if exists\n",
        "if profile_url[-1] == \"/\":\n",
        "    profile_url = profile_url[:-1]\n",
        "\n",
        "# Print the modified profile url\n",
        "print(\"Modified profile url: \", profile_url)\n",
        "\n",
        "# Set the parameters for the search\n",
        "params = {\n",
        "    'api_key': api_key,\n",
        "    'pretty': 'True',\n",
        "    'profile': profile_url\n",
        "}\n",
        "\n",
        "# Make the GET request\n",
        "response = requests.get(endpoint, params=params)\n",
        "\n",
        "# Print the JSON response\n",
        "print(response.json())\n"
      ]
    },
    {
      "cell_type": "code",
      "execution_count": null,
      "metadata": {
        "id": "1gLvnlVcXFb4"
      },
      "outputs": [],
      "source": [
        "import json\n",
        "\n",
        "# Make the GET request\n",
        "response = requests.get(endpoint, params=params)\n",
        "\n",
        "# Parse the JSON response\n",
        "data = json.loads(response.text)\n",
        "\n",
        "# Print the structured data\n",
        "print(json.dumps(data, indent=4))\n"
      ]
    },
    {
      "cell_type": "code",
      "execution_count": null,
      "metadata": {
        "id": "pIinLRoxXhF9"
      },
      "outputs": [],
      "source": [
        "import pandas as pd\n",
        "\n",
        "# Make the GET request\n",
        "response = requests.get(endpoint, params=params)\n",
        "\n",
        "# Convert the response to a DataFrame\n",
        "df = pd.DataFrame(response.json())\n",
        "\n",
        "# Display the DataFrame\n",
        "display(df)\n"
      ]
    },
    {
      "cell_type": "code",
      "execution_count": null,
      "metadata": {
        "id": "NYwVMPCjZJnb"
      },
      "outputs": [],
      "source": [
        "# Make the GET request\n",
        "response = requests.get(endpoint, params=params)\n",
        "\n",
        "# Convert the response to a DataFrame\n",
        "df = pd.DataFrame(response.json())\n",
        "\n",
        "# Display the DataFrame as an interactive table\n",
        "data_table.DataTable(df)\n"
      ]
    },
    {
      "cell_type": "code",
      "execution_count": null,
      "metadata": {
        "id": "NbpRv8Jmoy5g"
      },
      "outputs": [],
      "source": [
        "import json\n",
        "import os\n",
        "\n",
        "# Make the GET request\n",
        "response = requests.get(endpoint, params=params)\n",
        "\n",
        "# Create a file name based on the profile url\n",
        "file_name = os.path.join(params['profile'].replace('/','_')+'.json')\n",
        "\n",
        "#save the result in a file\n",
        "with open(file_name, 'w') as f:\n",
        "    json.dump(response.json(), f)\n"
      ]
    }
  ],
  "metadata": {
    "colab": {
      "authorship_tag": "ABX9TyNpxeiqhizYbOVIcvDCiDGL",
      "include_colab_link": true,
      "provenance": []
    },
    "kernelspec": {
      "display_name": "Python 3",
      "name": "python3"
    },
    "language_info": {
      "name": "python"
    }
  },
  "nbformat": 4,
  "nbformat_minor": 0
}
